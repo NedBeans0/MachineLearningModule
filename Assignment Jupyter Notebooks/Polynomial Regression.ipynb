{
 "cells": [
  {
   "cell_type": "markdown",
   "metadata": {},
   "source": []
  },
  {
   "cell_type": "markdown",
   "metadata": {},
   "source": [
    "Firstly we'll make the necessary imports and import our dataset from the provided CSV."
   ]
  },
  {
   "cell_type": "code",
   "execution_count": 11,
   "metadata": {},
   "outputs": [],
   "source": [
    "import numpy as np \n",
    "import pandas as pd \n",
    "import matplotlib.pyplot as plt \n",
    "from matplotlib import cm \n",
    "from matplotlib.ticker import LinearLocator, FormatStrFormatter\n",
    "from scipy import linalg\n",
    "from collections import OrderedDict\n",
    "import warnings\n",
    "warnings.filterwarnings('ignore')\n",
    "\n",
    "\n",
    "'''\n",
    "pol_regression.csv is a one-dimensional dataset with inputs x (1 input dimension) and outputs y (1 output dimension).\n",
    "'''\n",
    "data_train = pd.DataFrame.from_csv('pol_regression.csv')\n",
    "data_train.sort_values('x', axis = 0, ascending = True, inplace = True, na_position = 'last')\n",
    "x_train = data_train['x'].as_matrix()\n",
    "y_train = data_train['y'].as_matrix()"
   ]
  },
  {
   "cell_type": "markdown",
   "metadata": {},
   "source": [
    "We will need to arrange a Vandermonde matrix in order to raise the variables to the desired exponents according to the degree of the polynomial."
   ]
  },
  {
   "cell_type": "code",
   "execution_count": 12,
   "metadata": {},
   "outputs": [],
   "source": [
    "def getPolynomialDataMatrix(x, degree):\n",
    "    '''\n",
    "    This function does exactly the same as np.vander()\n",
    "    except np.vander() arranges the numbers in the opposite \n",
    "    order. Also this runs slightly quicker.\n",
    "    Essentially arranges a Vandermonde matrix with a row\n",
    "    for each variable and the amount of columns (and therefore\n",
    "    the amount of incrementing exponents) is based\n",
    "    on the degree. \n",
    "\n",
    "    For each variable in x, a row : [1, x, x², x³... xⁿ] where n based on the degrees\n",
    "    '''\n",
    "    X = np.ones(x.shape)\n",
    "    for i in range(1,degree + 1):\n",
    "        X = np.column_stack((X, x ** i))\n",
    "    \n",
    "    return X"
   ]
  },
  {
   "cell_type": "markdown",
   "metadata": {},
   "source": [
    "We will also need a function to estimate a least squares value to get the weights (coefficients) for the equation of our polynomial curve.\n",
    "\n",
    "$${\\boldsymbol{w}} = ({\\boldsymbol{X}}^T {\\boldsymbol{X}})^{-1} {\\boldsymbol{X}}^T\\boldsymbol{y}$$"
   ]
  },
  {
   "cell_type": "code",
   "execution_count": 13,
   "metadata": {},
   "outputs": [],
   "source": [
    "def getWeightsForPolynomialFit(x,y,degree):\n",
    "    #Least squares estimation to get the weights for the equation\n",
    "    X = getPolynomialDataMatrix(x, degree)\n",
    "\n",
    "    XX = X.transpose().dot(X)\n",
    "    w = np.linalg.solve(XX, X.transpose().dot(y))\n",
    "\n",
    "    return w"
   ]
  },
  {
   "cell_type": "markdown",
   "metadata": {},
   "source": [
    "And finally a function to utilise these values to arrange and plot an equation for the curve, returning the coefficients."
   ]
  },
  {
   "cell_type": "code",
   "execution_count": 14,
   "metadata": {},
   "outputs": [],
   "source": [
    "def pol_regression(features_train, y_train, degree):\n",
    "    #Calls function to use least squares solution to get weights\n",
    "    weights = getWeightsForPolynomialFit(features_train, y_train, degree)  \n",
    "\n",
    "    yintercept = weights[0]\n",
    "    print('Y Intercept = ');print(yintercept)\n",
    "\n",
    "\n",
    "    for i in np.arange(1, len(weights)):            \n",
    "        yintercept += weights[i] * features_train ** i #Arranges the equation β0 + β1x^1 + β2x^2...\n",
    "\n",
    "    line = yintercept #in this case the variable is no longer just the y-intercept but we've built the \n",
    "                      #rest of the equation up on top of it, so we make a new variable to make this clear\n",
    "\n",
    "    plt.plot(features_train, line)        \n",
    "    plt.title('Polynomial Fit')\n",
    "\n",
    "    plt.xlabel('x')\n",
    "    plt.ylabel('y') \n",
    "    #plt.show()\n",
    "    return weights"
   ]
  },
  {
   "cell_type": "markdown",
   "metadata": {},
   "source": [
    "We'll use all these functions together in order to plot a line for our values."
   ]
  },
  {
   "cell_type": "code",
   "execution_count": 15,
   "metadata": {},
   "outputs": [
    {
     "name": "stdout",
     "output_type": "stream",
     "text": [
      "Y Intercept = \n",
      "-20.09982760325155\n",
      "Y Intercept = \n",
      "5.5141039995525\n",
      "Y Intercept = \n",
      "0.44240766994443415\n",
      "Y Intercept = \n",
      "-1.872020996151997\n",
      "Y Intercept = \n",
      "-2.886915153512243\n"
     ]
    },
    {
     "data": {
      "image/png": "[encoded data removed]",
      "text/plain": [
       "<Figure size 432x288 with 1 Axes>"
      ]
     },
     "metadata": {
      "needs_background": "light"
     },
     "output_type": "display_data"
    }
   ],
   "source": [
    "weights = getWeightsForPolynomialFit(x_train, y_train, 1)  \n",
    "\n",
    "yintercept = weights[0]\n",
    "\n",
    "\n",
    "plt.plot(x_train, y_train, 'bo') \n",
    "line0 = plt.axhline(y=yintercept, color='r', linestyle='-')\n",
    "line1 = pol_regression(x_train, y_train, 1)\n",
    "line2 = pol_regression(x_train, y_train, 2)\n",
    "line3 = pol_regression(x_train, y_train, 3)\n",
    "line4 = pol_regression(x_train, y_train, 5)\n",
    "line5 = pol_regression(x_train, y_train, 10)\n",
    "\n",
    "\n",
    "#np.mean(y_train) and plot like ususal \n",
    "\n",
    "plt.legend(('points', '$x^0$','$x$', '$x^2$', '$x^3$', '$x^5$','$x^{10}$'), loc = 'lower right')\n",
    "axes = plt.gca() #x and y\n",
    "axes.set_xlim([-5,5]) #as per brief\n",
    "\n",
    "plt.show()"
   ]
  },
  {
   "cell_type": "markdown",
   "metadata": {},
   "source": [
    "To evaluate our current model we'll compute the RMSE using training and testing data to validate performance."
   ]
  },
  {
   "cell_type": "code",
   "execution_count": 16,
   "metadata": {},
   "outputs": [],
   "source": [
    "\n",
    "def eval_pol_regression(parameters, x, y, degree):\n",
    "    \n",
    "    polydata1 = pd.read_csv('pol_regression.csv')\n",
    "    poly2 = polydata1.sample(frac=1)\n",
    "\n",
    "    train_data = poly2[0:(int(round(len(poly2)*0.7)))]\n",
    "    test_data = poly2[(int(round(len(poly2)*0.7))):(len(poly2))]\n",
    "\n",
    "    print('Amount of training points:');print(len(train_data))\n",
    "    print('Amount of testing points:');print(len(test_data))\n",
    "\n",
    "\n",
    "    x_train = train_data['x'].values\n",
    "    y_train = train_data['y'].values\n",
    "\n",
    "    x_test = test_data['x'].values\n",
    "    y_test = test_data['y'].values\n",
    "\n",
    "    print('X and Y Train')\n",
    "    print(x_train)\n",
    "    print(y_train)\n",
    "\n",
    "    print('X and Y Test')\n",
    "    print(x_test)\n",
    "    print(y_test)\n",
    "    rmse_train = np.zeros((9,1))\n",
    "    rmse_test = np.zeros((9,1))\n",
    "\n",
    "    \n",
    "    for i in range(1,10):\n",
    "        Xtrain2 = getPolynomialDataMatrix(x_train,i)\n",
    "        Xtest2 = getPolynomialDataMatrix(x_test,i)\n",
    "        if i>=1:\n",
    "            w = getWeightsForPolynomialFit(x_train,y_train,i)\n",
    "        elif i == 0:\n",
    "            w = np.mean(y_train)\n",
    "        rmse_train[i-1] = np.sqrt(np.mean((Xtrain2.dot(w)-y_train)**2)) #Root mean squared error\n",
    "        rmse_test[i-1] = np.sqrt(np.mean((Xtest2.dot(w)-y_test)**2)) #Root mean squared error\n",
    "    \n",
    "    '''\n",
    "    Xtrain2 = getPolynomialDataMatrix(x_train,degree)\n",
    "    Xtest2 = getPolynomialDataMatrix(x_test,degree)\n",
    "    if degree>=1:\n",
    "        w = getWeightsForPolynomialFit(x_train,y_train,degree)\n",
    "    elif degree == 0:\n",
    "        w = np.mean(y_train)\n",
    "    rmse_train[degree-1] = np.sqrt(np.mean((Xtrain2.dot(w)-y_train)**2)) #Root mean squared error\n",
    "    rmse_test[degree-1] = np.sqrt(np.mean((Xtest2.dot(w)-y_test)**2)) #Root mean squared error\n",
    "    '''\n",
    "    plt.plot(range(1,10),rmse_train)\n",
    "    plt.plot(range(1,10),rmse_test)\n",
    "    \n",
    "    #plt.plot(rmse_train)\n",
    "    #plt.plot(rmse_test)\n",
    "\n",
    "    plt.legend(('RMSE Training', 'RMSE Testing'))\n",
    "    plt.xlabel('Order')\n",
    "    plt.ylabel('Error') \n",
    "\n",
    "    plt.show()\n"
   ]
  },
  {
   "cell_type": "markdown",
   "metadata": {},
   "source": [
    "Outputting the evaluation:"
   ]
  },
  {
   "cell_type": "code",
   "execution_count": 17,
   "metadata": {},
   "outputs": [
    {
     "name": "stdout",
     "output_type": "stream",
     "text": [
      "Amount of training points:\n",
      "14\n",
      "Amount of testing points:\n",
      "6\n",
      "X and Y Train\n",
      "[ 3.92946954 -2.21512717 -2.92757122 -2.40747553 -4.70123789  1.49144048\n",
      " -0.84898803 -3.7441469   0.50797903 -2.09095261  3.96293089  0.10827605\n",
      "  2.08147823  0.90862817]\n",
      "[   9.17492789    2.77258384  -29.93468343  -15.69039107 -155.19292561\n",
      "   -3.13355664   -2.25910597  -72.55687501    2.23832102  -10.89588121\n",
      "    3.23708584   -1.58009781  -13.1042694    -7.81882487]\n",
      "X and Y Test\n",
      "[-0.59190156  1.76254902 -4.48532797 -0.43166776 -4.76018118  0.58854088]\n",
      "[   1.586948    -13.62952627 -125.2759435     0.73794027 -162.08424112\n",
      "  -15.19263956]\n"
     ]
    },
    {
     "data": {
      "image/png": "[encoded data removed]",
      "text/plain": [
       "<Figure size 432x288 with 1 Axes>"
      ]
     },
     "metadata": {
      "needs_background": "light"
     },
     "output_type": "display_data"
    }
   ],
   "source": [
    "eval_pol_regression(line2, x_train, y_train, 5)\n"
   ]
  }
 ],
 "metadata": {
  "kernelspec": {
   "display_name": "Python 3",
   "language": "python",
   "name": "python3"
  },
  "language_info": {
   "codemirror_mode": {
    "name": "ipython",
    "version": 3
   },
   "file_extension": ".py",
   "mimetype": "text/x-python",
   "name": "python",
   "nbconvert_exporter": "python",
   "pygments_lexer": "ipython3",
   "version": "3.7.3"
  }
 },
 "nbformat": 4,
 "nbformat_minor": 2
}
